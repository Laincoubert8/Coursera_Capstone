{
 "cells": [
  {
   "cell_type": "markdown",
   "metadata": {},
   "source": [
    "## Capstone Project - The Battle of the Neighborhoods \n",
    "### Applied Data Science Capstone by IBM/Coursera"
   ]
  },
  {
   "cell_type": "markdown",
   "metadata": {},
   "source": [
    "## Introduction: The Problem <a name=\"introduction\"></a>"
   ]
  },
  {
   "cell_type": "markdown",
   "metadata": {},
   "source": [
    "This project aims to select the safest streets in Barcelona based on the **total accidents**, explore the **districts** of that neighbourhood to find the **most accidental streets** in each neighbourhood and finally cluster the districts using **k-mean clustering**.\n",
    "\n",
    "This report will be targeted to people such as myself who are looking to **the safest routes for driving**. In order to choose a neighborhood to drive, **safety** is considered as a concern when moving around my city. The **accidents statistics** will provide an insight into this issue.\n"
   ]
  },
  {
   "cell_type": "markdown",
   "metadata": {},
   "source": [
    "## Data <a name=\"data\"></a>\n",
    "\n",
    "Based on definition of our problem, factors that will influence our decision are:\n",
    "* The total number of accidents happened in each street during the year.\n",
    "* The most common neighborhoods in each district.\n",
    "\n",
    "Following data sources will be needed to extract/generate the required information:\n",
    "\n",
    "- Preprocessing a real world data set from Kaggle accidents in Barcelona from 2017.\n",
    "\n"
   ]
  },
  {
   "cell_type": "markdown",
   "metadata": {},
   "source": [
    "### Part 1: Preprocessing a data set from Kaggle accidents in Barcelona<a name=\"part1\"></a>\n",
    "\n",
    "\n",
    "List of accidents handled by the local police in the city of Barcelona. Incorporates the number of injuries by severity, the number of vehicles and the point of impact.\n",
    "\n",
    "Data sets from the Open Data BCN portal, the Ajuntament de Barcelona's open data service.\n",
    "\n",
    "Open Data BCN, a project that was born in 2010, implementing the portal in 2011, has evolved and is now part of the Barcelona Ciutat Digital strategy, fostering a pluralistic digital economy and developing a new model of urban innovation based on the transformation and digital innovation of the public sector and the implication among companies, administrations, the academic world, organizations, communities and people, with a clear public and citizen leadership. \n",
    "\n",
    "https://www.kaggle.com/xvivancos/barcelona-data-sets?select=accidents_2017.csv\n",
    "\n",
    "\n"
   ]
  },
  {
   "cell_type": "markdown",
   "metadata": {},
   "source": [
    "#### Import necessary libraries"
   ]
  },
  {
   "cell_type": "code",
   "execution_count": null,
   "metadata": {},
   "outputs": [],
   "source": [
    "import requests # library to handle requests\n",
    "import pandas as pd # library for data analsysis\n",
    "import numpy as np # library to handle data in a vectorized manner\n",
    "import random # library for random number generation\n",
    "from bs4 import BeautifulSoup # library for web scrapping  \n",
    "\n",
    "#!conda install -c conda-forge geocoder --yes\n",
    "import geocoder\n",
    "\n",
    "#!conda install -c conda-forge geopy --yes \n",
    "from geopy.geocoders import Nominatim # module to convert an address into latitude and longitude values\n",
    "\n",
    "# libraries for displaying images\n",
    "from IPython.display import Image \n",
    "from IPython.core.display import HTML \n",
    "    \n",
    "# tranforming json file into a pandas dataframe library\n",
    "from pandas.io.json import json_normalize\n",
    "\n",
    "#!conda install -c conda-forge folium=0.5.0 --yes\n",
    "import folium # plotting library\n",
    "\n",
    "print('Folium installed')\n",
    "print('Libraries imported.')\n"
   ]
  },
  {
   "cell_type": "markdown",
   "metadata": {},
   "source": [
    "#### Define Foursquare Credentials and Version\n",
    "Make sure that you have created a Foursquare developer account and have your credentials handy"
   ]
  },
  {
   "cell_type": "code",
   "execution_count": null,
   "metadata": {},
   "outputs": [],
   "source": [
    "LIMIT = 100\n",
    "CLIENT_ID = 'OEM1KGPBAE1DJPP2NRJK2RIYX5IUBWEVNV1WG441OXHJCNEA'\n",
    "CLIENT_SECRET = 'PIJRVPMHDQPCVHW0GR0VU3BDX4BUGRNQQGSLKFKQBE1D2KOX' \n",
    "VERSION = '20200801' \n",
    "\n",
    "print('Your credentails:')\n",
    "print('CLIENT_ID: ' + CLIENT_ID)\n",
    "print('CLIENT_SECRET:' + CLIENT_SECRET)"
   ]
  },
  {
   "cell_type": "markdown",
   "metadata": {},
   "source": [
    "#### Read in the dataset"
   ]
  },
  {
   "cell_type": "code",
   "execution_count": null,
   "metadata": {
    "scrolled": true
   },
   "outputs": [],
   "source": [
    "df = pd.read_csv(\"accidents.csv\")"
   ]
  },
  {
   "cell_type": "code",
   "execution_count": null,
   "metadata": {},
   "outputs": [],
   "source": [
    "df.shape"
   ]
  },
  {
   "cell_type": "code",
   "execution_count": null,
   "metadata": {},
   "outputs": [],
   "source": [
    "df.head()"
   ]
  },
  {
   "cell_type": "code",
   "execution_count": null,
   "metadata": {},
   "outputs": [],
   "source": [
    "df.info()"
   ]
  },
  {
   "cell_type": "markdown",
   "metadata": {},
   "source": [
    "#### Total number of accidents in each Neighborhood "
   ]
  },
  {
   "cell_type": "code",
   "execution_count": null,
   "metadata": {
    "scrolled": true
   },
   "outputs": [],
   "source": [
    "df['Neighborhood Name'].value_counts()"
   ]
  },
  {
   "cell_type": "markdown",
   "metadata": {},
   "source": [
    "#### The total accidents per month of the year"
   ]
  },
  {
   "cell_type": "code",
   "execution_count": null,
   "metadata": {
    "scrolled": true
   },
   "outputs": [],
   "source": [
    "df['Month'].value_counts()"
   ]
  },
  {
   "cell_type": "markdown",
   "metadata": {},
   "source": [
    "#### The total accidents per district, day and hour."
   ]
  },
  {
   "cell_type": "code",
   "execution_count": null,
   "metadata": {},
   "outputs": [],
   "source": [
    "df['District Name'].value_counts()"
   ]
  },
  {
   "cell_type": "code",
   "execution_count": null,
   "metadata": {},
   "outputs": [],
   "source": [
    "df['Weekday'].value_counts()"
   ]
  },
  {
   "cell_type": "code",
   "execution_count": null,
   "metadata": {},
   "outputs": [],
   "source": [
    "df['Hour'].value_counts()"
   ]
  },
  {
   "cell_type": "markdown",
   "metadata": {},
   "source": [
    "#### Pivoting the table to view the no. of victims for each mild injuries in each Neighbourhood "
   ]
  },
  {
   "cell_type": "code",
   "execution_count": null,
   "metadata": {},
   "outputs": [],
   "source": [
    "Barcelona_accidents = pd.pivot_table(df,values=['Victims'],\n",
    "                               index=['Neighborhood Name'],\n",
    "                               columns=['Weekday'],\n",
    "                               aggfunc=np.sum,fill_value=0)\n",
    "Barcelona_accidents.head()"
   ]
  },
  {
   "cell_type": "code",
   "execution_count": null,
   "metadata": {},
   "outputs": [],
   "source": [
    "# Reset the index\n",
    "Barcelona_accidents.reset_index(inplace = True)"
   ]
  },
  {
   "cell_type": "code",
   "execution_count": null,
   "metadata": {
    "scrolled": true
   },
   "outputs": [],
   "source": [
    "# Total accidentss per Neighbourhood\n",
    "Barcelona_accidents['Total'] = Barcelona_accidents.sum(axis=1)\n",
    "Barcelona_accidents.head(33)"
   ]
  },
  {
   "cell_type": "markdown",
   "metadata": {},
   "source": [
    "#### Renaming the columns"
   ]
  },
  {
   "cell_type": "code",
   "execution_count": null,
   "metadata": {},
   "outputs": [],
   "source": [
    "Barcelona_accidents.columns = ['Neighborhood Name','Friday','Monday','Saturday','Sunday','Thursday','Tuesday','Wednesday','Total']\n",
    "Barcelona_accidents.head()"
   ]
  },
  {
   "cell_type": "code",
   "execution_count": null,
   "metadata": {},
   "outputs": [],
   "source": [
    "# Shape of the data set \n",
    "Barcelona_accidents.shape"
   ]
  },
  {
   "cell_type": "markdown",
   "metadata": {},
   "source": [
    "### Exploratory Data Analysis <a name=\"EDA\"></a>"
   ]
  },
  {
   "cell_type": "markdown",
   "metadata": {},
   "source": [
    "#### Descriptive statistics of the data"
   ]
  },
  {
   "cell_type": "code",
   "execution_count": null,
   "metadata": {},
   "outputs": [],
   "source": [
    "Barcelona_accidents.describe()"
   ]
  },
  {
   "cell_type": "code",
   "execution_count": null,
   "metadata": {},
   "outputs": [],
   "source": [
    "%matplotlib inline \n",
    "\n",
    "import matplotlib as mpl\n",
    "import matplotlib.pyplot as plt\n",
    "\n",
    "mpl.style.use('ggplot') \n",
    "\n",
    "\n",
    "print ('Matplotlib version: ', mpl.__version__) # >= 2.0.0\n",
    "\n",
    "\n",
    "import matplotlib.cm as cm\n",
    "import matplotlib.colors as colors"
   ]
  },
  {
   "cell_type": "markdown",
   "metadata": {},
   "source": [
    "#### Check if the column names are strings "
   ]
  },
  {
   "cell_type": "code",
   "execution_count": null,
   "metadata": {},
   "outputs": [],
   "source": [
    "Barcelona_accidents.columns = list(map(str, Barcelona_accidents.columns))\n",
    "\n",
    "# let's check the column labels types now\n",
    "all(isinstance(column, str) for column in Barcelona_accidents.columns)"
   ]
  },
  {
   "cell_type": "markdown",
   "metadata": {},
   "source": [
    "#### Sort the total accidentss in descenting order to see 5  Neighbourhoods with the highest number of accidents"
   ]
  },
  {
   "cell_type": "code",
   "execution_count": null,
   "metadata": {},
   "outputs": [],
   "source": [
    "Barcelona_accidents.sort_values(['Total'], ascending = False, axis = 0, inplace = True )\n",
    "\n",
    "df_top5 = Barcelona_accidents.head() \n",
    "df_top5"
   ]
  },
  {
   "cell_type": "markdown",
   "metadata": {},
   "source": [
    "#### Visualize the five Neighbourhoods with the highest number of accidents"
   ]
  },
  {
   "cell_type": "code",
   "execution_count": null,
   "metadata": {},
   "outputs": [],
   "source": [
    "df_tt = df_top5[['Neighborhood Name','Total']]\n",
    "\n",
    "df_tt.set_index('Neighborhood Name',inplace = True)\n",
    "\n",
    "ax = df_tt.plot(kind='bar', figsize=(10, 10), rot=0)\n",
    "\n",
    "ax.set_ylabel('Number of accidents') # add to x-label to the plot\n",
    "ax.set_xlabel('Neighbourhood') # add y-label to the plot\n",
    "ax.set_title('Barcelona Neighbourhoods with the Highest no. of accidents') # add title to the plot\n",
    "\n",
    "# Creating a function to display the percentage.\n",
    "\n",
    "for p in ax.patches:\n",
    "    ax.annotate(np.round(p.get_height(),decimals=2), \n",
    "                (p.get_x()+p.get_width()/2., p.get_height()), \n",
    "                ha='center', \n",
    "                va='center', \n",
    "                xytext=(0, 10), \n",
    "                textcoords='offset points',\n",
    "                fontsize = 20\n",
    "               )\n",
    "\n",
    "plt.show()"
   ]
  },
  {
   "cell_type": "markdown",
   "metadata": {},
   "source": [
    "### We'll stay clear from these places :)"
   ]
  },
  {
   "cell_type": "markdown",
   "metadata": {},
   "source": [
    "#### Sort the total accidents in ascending order to see 5  Neighbourhoods with the highest number of accidents "
   ]
  },
  {
   "cell_type": "code",
   "execution_count": null,
   "metadata": {},
   "outputs": [],
   "source": [
    "Barcelona_accidents.sort_values(['Total'], ascending = True, axis = 0, inplace = True )\n",
    "\n",
    "df_bot5 = Barcelona_accidents.head() \n",
    "df_bot5"
   ]
  },
  {
   "cell_type": "markdown",
   "metadata": {},
   "source": [
    "#### Visualize the five Neighbourhoods with the least number of accidents "
   ]
  },
  {
   "cell_type": "code",
   "execution_count": null,
   "metadata": {},
   "outputs": [],
   "source": [
    "df_bt = df_bot5[['Neighborhood Name','Total']]\n",
    "\n",
    "df_bt.set_index('Neighborhood Name',inplace = True)\n",
    "\n",
    "ax = df_bt.plot(kind='bar', figsize=(10, 6), rot=0)\n",
    "\n",
    "ax.set_ylabel('Number of accidentss') # add to x-label to the plot\n",
    "ax.set_xlabel('Neighborhood Name') # add y-label to the plot\n",
    "ax.set_title('Barcelona Neighbourhoods with the least no. of accidents') # add title to the plot\n",
    "\n",
    "# Creating a function to display the percentage.\n",
    "\n",
    "for p in ax.patches:\n",
    "    ax.annotate(np.round(p.get_height(),decimals=2), \n",
    "                (p.get_x()+p.get_width()/2., p.get_height()), \n",
    "                ha='center', \n",
    "                va='center', \n",
    "                xytext=(0, 10), \n",
    "                textcoords='offset points',\n",
    "                fontsize = 14\n",
    "               )\n",
    "\n",
    "plt.show()"
   ]
  },
  {
   "cell_type": "markdown",
   "metadata": {},
   "source": [
    "La dreta de l'Eixample has the highest no. of accidents recorded for the year 2017, Looking into the details of the Neighbourhood."
   ]
  },
  {
   "cell_type": "code",
   "execution_count": null,
   "metadata": {},
   "outputs": [],
   "source": [
    "df_col = df_top5[df_top5['Neighborhood Name'] == 'la Dreta de l\\'Eixample']\n",
    "df_col = df_col[['Neighborhood Name','Total','Monday','Tuesday','Wednesday','Thursday','Friday','Saturday','Sunday']]\n",
    "df_col"
   ]
  },
  {
   "cell_type": "code",
   "execution_count": null,
   "metadata": {},
   "outputs": [],
   "source": [
    "df_eixample = df[df['Neighborhood Name'] == 'la Dreta de l\\'Eixample']\n",
    "\n",
    "Eixample_accidents = pd.pivot_table(df_eixample,values=['Victims'],\n",
    "                               index=['Street'],\n",
    "                               columns=['Part of the day'],\n",
    "                               aggfunc=np.sum,fill_value=0)\n",
    "Eixample_accidents\n",
    "\n"
   ]
  },
  {
   "cell_type": "code",
   "execution_count": null,
   "metadata": {},
   "outputs": [],
   "source": [
    "# Reset the index\n",
    "Eixample_accidents.reset_index(inplace = True)"
   ]
  },
  {
   "cell_type": "code",
   "execution_count": null,
   "metadata": {
    "scrolled": true
   },
   "outputs": [],
   "source": [
    "# Total accidentss per Neighbourhood\n",
    "Eixample_accidents['Total'] = Eixample_accidents.sum(axis=1)\n",
    "\n",
    "\n",
    "Eixample_accidents.sort_values(['Total'], ascending = False, axis = 0, inplace = True )\n",
    "Eixample_accidents.head(336)"
   ]
  },
  {
   "cell_type": "code",
   "execution_count": null,
   "metadata": {},
   "outputs": [],
   "source": [
    "Eixample_accidents.sort_values(['Total'], ascending = False, axis = 0, inplace = True )\n",
    "\n",
    "df_top5eix = Eixample_accidents.head() \n",
    "df_top5eix"
   ]
  },
  {
   "cell_type": "markdown",
   "metadata": {},
   "source": [
    "URL: https://es.wikipedia.org/wiki/La_Dreta_de_l%27Eixample\n",
    "\n",
    "\n",
    "### Visualizing different types of accidentss in the Neighbourhood 'la dreta de l'Eixample'"
   ]
  },
  {
   "cell_type": "code",
   "execution_count": null,
   "metadata": {},
   "outputs": [],
   "source": [
    "df_bt = df_top5eix[['Street','Total']]\n",
    "\n",
    "df_bt.set_index('Street',inplace = True)\n",
    "\n",
    "ax = df_bt.plot(kind='bar', figsize=(15, 6), rot=0)\n",
    "\n",
    "ax.set_ylabel('Number of accidentss') # add to x-label to the plot\n",
    "for tick in ax.xaxis.get_majorticklabels():\n",
    "    tick.set_horizontalalignment(\"left\")\n",
    "ax.set_xlabel('Street') # add y-label to the plot\n",
    "ax.set_title('Barcelona Neighbourhoods with the highhest no. of accidents') # add title to the plot\n",
    "\n",
    "# Creating a function to display the percentage.\n",
    "\n",
    "for p in ax.patches:\n",
    "    ax.annotate(np.round(p.get_height(),decimals=2), \n",
    "                (p.get_x()+p.get_width()/2., p.get_height()), \n",
    "                ha='center', \n",
    "                va='center', \n",
    "                xytext=(0, 10), \n",
    "                textcoords='offset points',\n",
    "                fontsize = 14\n",
    "               )\n",
    "\n",
    "plt.show()"
   ]
  },
  {
   "cell_type": "markdown",
   "metadata": {},
   "source": [
    "We can conclude that la dreta de l'Eixample is the most dangerous Neighbourhood to drive when compared to the other Neighbourhoods in Barcelona. "
   ]
  },
  {
   "cell_type": "markdown",
   "metadata": {},
   "source": [
    "### Part 3: Creating a map of the accidents using their co-ordinates. <a name=\"part3\"></a>\n",
    "\n"
   ]
  },
  {
   "cell_type": "code",
   "execution_count": null,
   "metadata": {},
   "outputs": [],
   "source": [
    "coord_df = df.drop(['Id', 'Street', 'Weekday', 'Month', 'Day', 'Hour', 'Part of the day', 'Mild injuries', 'Victims','Serious injuries','Vehicles involved'], axis=1)\n",
    "\n",
    "coord_df"
   ]
  },
  {
   "cell_type": "code",
   "execution_count": null,
   "metadata": {},
   "outputs": [],
   "source": [
    "address = 'Barcelona, Barcelona, Spain'\n",
    "\n",
    "geolocator = Nominatim(user_agent=\"ld_explorer\")\n",
    "location = geolocator.geocode(address)\n",
    "latitude = location.latitude\n",
    "longitude = location.longitude\n",
    "print('The geograpical coordinate of Barcelona, Spain are {}, {}.'.format(latitude, longitude))"
   ]
  },
  {
   "cell_type": "code",
   "execution_count": null,
   "metadata": {},
   "outputs": [],
   "source": [
    "\n",
    "# create map of New York using latitude and longitude values\n",
    "map_lon = folium.Map(location=[latitude, longitude], zoom_start=12)\n",
    "\n",
    "# add markers to map\n",
    "for lat, lng, Neighbourhood, neighborhood in zip(coord_df['Latitude'], coord_df['Longitude'], coord_df['District Name'], coord_df['Neighborhood Name']):\n",
    "    label = '{}, {}'.format(neighborhood, Neighbourhood)\n",
    "    label = folium.Popup(label, parse_html=True)\n",
    "    folium.CircleMarker(\n",
    "        [lat, lng],\n",
    "        radius=5,\n",
    "        popup=label,\n",
    "        color='blue',\n",
    "        fill=True,\n",
    "        fill_color='#3186cc',\n",
    "        fill_opacity=0.7,\n",
    "        parse_html=False).add_to(map_lon)  \n",
    "    \n",
    "map_lon"
   ]
  },
  {
   "cell_type": "markdown",
   "metadata": {},
   "source": [
    "### Modelling <a name=\"modelling\"></a>\n",
    "\n",
    "- Finding all the venues within each neighborhood.\n",
    "- Perform one hot ecoding on the venues data.\n",
    "- Grouping the venues by the neighborhood and calculating their mean.\n",
    "- Performing a K-means clustering (Defining K = 5)"
   ]
  },
  {
   "cell_type": "code",
   "execution_count": null,
   "metadata": {},
   "outputs": [],
   "source": [
    "coord_venues = df.drop(['Id', 'Weekday', 'Month', 'Day', 'Hour', 'Part of the day', 'Mild injuries', 'Victims','Serious injuries','Vehicles involved'], axis=1)\n",
    "\n"
   ]
  },
  {
   "cell_type": "code",
   "execution_count": null,
   "metadata": {},
   "outputs": [],
   "source": [
    "coord_venues = coord_venues[coord_venues['District Name'] != 'Unknown']\n",
    "coord_df = coord_df[coord_df['District Name'] != 'Unknown']\n",
    "\n"
   ]
  },
  {
   "cell_type": "code",
   "execution_count": null,
   "metadata": {},
   "outputs": [],
   "source": [
    "print(coord_venues.shape)\n",
    "coord_venues.head()"
   ]
  },
  {
   "cell_type": "code",
   "execution_count": null,
   "metadata": {},
   "outputs": [],
   "source": [
    "coord_venues.groupby('District Name').count()"
   ]
  },
  {
   "cell_type": "code",
   "execution_count": null,
   "metadata": {},
   "outputs": [],
   "source": [
    "print('There are {} Neighbourhoods.'.format(len(coord_venues['Neighborhood Name'].unique())))"
   ]
  },
  {
   "cell_type": "code",
   "execution_count": null,
   "metadata": {},
   "outputs": [],
   "source": [
    "# one hot encoding\n",
    "coord_onehot = pd.get_dummies(coord_venues[['Neighborhood Name']], prefix=\"\", prefix_sep=\"\")\n",
    "\n",
    "# add neighborhood column back to dataframe\n",
    "coord_onehot['District Name'] = coord_venues['District Name'] \n",
    "\n",
    "# move neighborhood column to the first column\n",
    "fixed_columns = [coord_onehot.columns[-1]] + list(coord_onehot.columns[:-1])\n",
    "coord_onehot = coord_onehot[fixed_columns]\n",
    "\n",
    "coord_onehot.head()"
   ]
  },
  {
   "cell_type": "markdown",
   "metadata": {},
   "source": [
    "#### Grouping rows by neighborhood and by taking the mean of the frequency of occurrence of each category"
   ]
  },
  {
   "cell_type": "code",
   "execution_count": null,
   "metadata": {},
   "outputs": [],
   "source": [
    "coord_grouped = coord_onehot.groupby('District Name').mean().reset_index()\n",
    "coord_grouped"
   ]
  },
  {
   "cell_type": "code",
   "execution_count": null,
   "metadata": {},
   "outputs": [],
   "source": [
    "coord_grouped.shape"
   ]
  },
  {
   "cell_type": "code",
   "execution_count": null,
   "metadata": {},
   "outputs": [],
   "source": [
    "num_top_venues = 5\n",
    "\n",
    "for hood in coord_grouped['District Name']:\n",
    "    print(\"----\"+hood+\"----\")\n",
    "    temp = coord_grouped[coord_grouped['District Name'] == hood].T.reset_index()\n",
    "    temp.columns = ['District','Accidents Frequency']\n",
    "    temp = temp.iloc[1:]\n",
    "    temp['Accidents Frequency'] = temp['Accidents Frequency'].astype(float)\n",
    "    temp = temp.round({'Accidents Frequency': 2})\n",
    "    print(temp.sort_values('Accidents Frequency', ascending=False).reset_index(drop=True).head(num_top_venues))\n",
    "    print('\\n')"
   ]
  },
  {
   "cell_type": "markdown",
   "metadata": {},
   "source": [
    "Function to sort the districts in descending order."
   ]
  },
  {
   "cell_type": "code",
   "execution_count": null,
   "metadata": {},
   "outputs": [],
   "source": [
    "def return_most_common_Neighbourhoods(row, num_top_venues):\n",
    "    row_categories = row.iloc[1:]\n",
    "    row_categories_sorted = row_categories.sort_values(ascending=False)\n",
    "    \n",
    "    return row_categories_sorted.index.values[0:num_top_Neighbourhoods]"
   ]
  },
  {
   "cell_type": "markdown",
   "metadata": {},
   "source": [
    "Create the new dataframe and display the top 10 neighbourhoods for each district"
   ]
  },
  {
   "cell_type": "code",
   "execution_count": null,
   "metadata": {},
   "outputs": [],
   "source": [
    "num_top_Neighbourhoods = 10\n",
    "\n",
    "indicators = ['st', 'nd', 'rd']\n",
    "\n",
    "# create columns according to number of top Neighbourhoods\n",
    "columns = ['District Name']\n",
    "for ind in np.arange(num_top_Neighbourhoods):\n",
    "    try:\n",
    "        columns.append('{}{} Most Common Neighbourhood'.format(ind+1, indicators[ind]))\n",
    "    except:\n",
    "        columns.append('{}th Most Common Neighbourhood'.format(ind+1))\n",
    "\n",
    "# create a new dataframe\n",
    "neighborhoods_Neighbourhoods_sorted = pd.DataFrame(columns=columns)\n",
    "neighborhoods_Neighbourhoods_sorted['District Name'] = coord_grouped['District Name']\n",
    "\n",
    "for ind in np.arange(coord_grouped.shape[0]):\n",
    "    neighborhoods_Neighbourhoods_sorted.iloc[ind, 1:] = return_most_common_Neighbourhoods(coord_grouped.iloc[ind, :], num_top_Neighbourhoods)\n",
    "\n",
    "neighborhoods_Neighbourhoods_sorted.head()"
   ]
  },
  {
   "cell_type": "markdown",
   "metadata": {},
   "source": [
    "### Clustering similar districts together using k - means clustering"
   ]
  },
  {
   "cell_type": "code",
   "execution_count": null,
   "metadata": {},
   "outputs": [],
   "source": [
    "from sklearn.cluster import KMeans\n",
    "\n",
    "kclusters = 5\n",
    "\n",
    "coord_grouped_clustering = coord_grouped.drop('District Name', 1)\n",
    "\n",
    "kmeans = KMeans(n_clusters=kclusters, random_state=0).fit(coord_grouped_clustering)\n",
    "\n",
    "kmeans.labels_[0:10] "
   ]
  },
  {
   "cell_type": "code",
   "execution_count": null,
   "metadata": {},
   "outputs": [],
   "source": [
    "# add clustering labels\n",
    "neighborhoods_Neighbourhoods_sorted.insert(0, 'Cluster Labels', kmeans.labels_)\n",
    "\n",
    "coord_merged = coord_df\n",
    "\n",
    "coord_merged = coord_merged.join(neighborhoods_Neighbourhoods_sorted.set_index('District Name'), on='District Name')\n",
    "\n",
    "coord_merged.head()"
   ]
  },
  {
   "cell_type": "code",
   "execution_count": null,
   "metadata": {},
   "outputs": [],
   "source": [
    "coord_merged.info()"
   ]
  },
  {
   "cell_type": "code",
   "execution_count": null,
   "metadata": {},
   "outputs": [],
   "source": [
    "# Dropping the row with the NaN value \n",
    "coord_merged.dropna(inplace = True)"
   ]
  },
  {
   "cell_type": "code",
   "execution_count": null,
   "metadata": {},
   "outputs": [],
   "source": [
    "coord_merged.shape"
   ]
  },
  {
   "cell_type": "code",
   "execution_count": null,
   "metadata": {},
   "outputs": [],
   "source": [
    "coord_merged['Cluster Labels'] = coord_merged['Cluster Labels'].astype(int)"
   ]
  },
  {
   "cell_type": "code",
   "execution_count": null,
   "metadata": {},
   "outputs": [],
   "source": [
    "coord_merged.info()"
   ]
  },
  {
   "cell_type": "markdown",
   "metadata": {},
   "source": [
    "### Visualize the clusters"
   ]
  },
  {
   "cell_type": "code",
   "execution_count": null,
   "metadata": {},
   "outputs": [],
   "source": [
    "# create map\n",
    "map_clusters = folium.Map(location=[latitude, longitude], zoom_start=11.5)\n",
    "\n",
    "# set color scheme for the clusters\n",
    "x = np.arange(kclusters)\n",
    "ys = [i + x + (i*x)**2 for i in range(kclusters)]\n",
    "colors_array = cm.rainbow(np.linspace(0, 1, len(ys)))\n",
    "rainbow = [colors.rgb2hex(i) for i in colors_array]\n",
    "\n",
    "# add markers to the map\n",
    "markers_colors = []\n",
    "for lat, lon, poi, cluster in zip(coord_merged['Latitude'], coord_merged['Longitude'], coord_merged['District Name'], coord_merged['Cluster Labels']):\n",
    "    label = folium.Popup(str(poi) + ' Cluster ' + str(cluster), parse_html=True)\n",
    "    folium.CircleMarker(\n",
    "        [lat, lon],\n",
    "        radius=8,\n",
    "        popup=label,\n",
    "        color=rainbow[cluster-1],\n",
    "        fill=True,\n",
    "        fill_color=rainbow[cluster-1],\n",
    "        fill_opacity=0.5).add_to(map_clusters)\n",
    "       \n",
    "map_clusters"
   ]
  },
  {
   "cell_type": "markdown",
   "metadata": {},
   "source": [
    "## Analysis <a name=\"analysis\"></a>\n",
    "\n",
    "Analyse each of the clusters to identify the characteristics of each cluster and the neighborhoods in them."
   ]
  },
  {
   "cell_type": "markdown",
   "metadata": {},
   "source": [
    "#### Examine the first cluster"
   ]
  },
  {
   "cell_type": "code",
   "execution_count": null,
   "metadata": {},
   "outputs": [],
   "source": [
    "coord_merged[coord_merged['Cluster Labels'] == 0]"
   ]
  },
  {
   "cell_type": "markdown",
   "metadata": {},
   "source": [
    "This cluster contains the 2nd most accidental district in the city."
   ]
  },
  {
   "cell_type": "markdown",
   "metadata": {},
   "source": [
    "#### Examine the second cluster"
   ]
  },
  {
   "cell_type": "code",
   "execution_count": null,
   "metadata": {},
   "outputs": [],
   "source": [
    "coord_merged[coord_merged['Cluster Labels'] == 1]"
   ]
  },
  {
   "cell_type": "markdown",
   "metadata": {},
   "source": [
    "#### Examine the third cluster"
   ]
  },
  {
   "cell_type": "code",
   "execution_count": null,
   "metadata": {},
   "outputs": [],
   "source": [
    "coord_merged[coord_merged['Cluster Labels'] == 2]"
   ]
  },
  {
   "cell_type": "markdown",
   "metadata": {},
   "source": [
    "#### Examine the forth cluster"
   ]
  },
  {
   "cell_type": "code",
   "execution_count": null,
   "metadata": {},
   "outputs": [],
   "source": [
    "coord_merged[coord_merged['Cluster Labels'] == 3]"
   ]
  },
  {
   "cell_type": "markdown",
   "metadata": {},
   "source": [
    "#### Examine the fifth cluster"
   ]
  },
  {
   "cell_type": "code",
   "execution_count": null,
   "metadata": {},
   "outputs": [],
   "source": [
    "coord_merged[coord_merged['Cluster Labels'] == 4]"
   ]
  },
  {
   "cell_type": "markdown",
   "metadata": {},
   "source": [
    "The fifth cluster contains the most accidental neighbourhoods of the city."
   ]
  },
  {
   "cell_type": "markdown",
   "metadata": {},
   "source": [
    "## Results and Discussion <a name=\"results\"></a>"
   ]
  },
  {
   "cell_type": "markdown",
   "metadata": {},
   "source": [
    "The aim of this project is to help people who want to drive around the less accidental streets in Barcelona. The clusters suggest that crossing the city through its insides, like Diagonal Street, or all the way up, from or towards the port, is very risky compared to the other routes around. In case you drive from outside the city, it might seem relevant to choose from which side to approach instead of reaching the city from the middle and then reroute."
   ]
  },
  {
   "cell_type": "markdown",
   "metadata": {},
   "source": [
    "## Conclusion <a name=\"conclusion\"></a>"
   ]
  },
  {
   "cell_type": "markdown",
   "metadata": {},
   "source": [
    "This project helps a person get a better understanding of traffic inside the city of Barcelona and how important it is, not only taking the fastest route, but the potentially safest."
   ]
  }
 ],
 "metadata": {
  "kernelspec": {
   "display_name": "Python 3",
   "language": "python",
   "name": "python3"
  },
  "language_info": {
   "codemirror_mode": {
    "name": "ipython",
    "version": 3
   },
   "file_extension": ".py",
   "mimetype": "text/x-python",
   "name": "python",
   "nbconvert_exporter": "python",
   "pygments_lexer": "ipython3",
   "version": "3.7.3"
  }
 },
 "nbformat": 4,
 "nbformat_minor": 2
}
